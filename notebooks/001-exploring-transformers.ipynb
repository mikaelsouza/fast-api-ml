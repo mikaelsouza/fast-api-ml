{
 "cells": [
  {
   "cell_type": "code",
   "execution_count": 2,
   "metadata": {},
   "outputs": [
    {
     "name": "stderr",
     "output_type": "stream",
     "text": [
      "The ONNX file onnx/model_quantized.onnx is not a regular name used in optimum.onnxruntime, the ORTModel might not behave as expected.\n"
     ]
    },
    {
     "data": {
      "text/plain": [
       "[[{'label': 'neutral', 'score': 0.8337697982788086},\n",
       "  {'label': 'excitement', 'score': 0.09143052995204926},\n",
       "  {'label': 'joy', 'score': 0.020969947800040245},\n",
       "  {'label': 'surprise', 'score': 0.015237855724990368},\n",
       "  {'label': 'gratitude', 'score': 0.011659312061965466},\n",
       "  {'label': 'approval', 'score': 0.006844020448625088},\n",
       "  {'label': 'admiration', 'score': 0.005592883564531803},\n",
       "  {'label': 'curiosity', 'score': 0.005051056854426861},\n",
       "  {'label': 'annoyance', 'score': 0.004773362074047327},\n",
       "  {'label': 'fear', 'score': 0.004527142271399498},\n",
       "  {'label': 'realization', 'score': 0.003830841975286603},\n",
       "  {'label': 'love', 'score': 0.003713134443387389},\n",
       "  {'label': 'desire', 'score': 0.0034284405410289764},\n",
       "  {'label': 'anger', 'score': 0.00299529149197042},\n",
       "  {'label': 'amusement', 'score': 0.0028730102349072695},\n",
       "  {'label': 'sadness', 'score': 0.002708669053390622},\n",
       "  {'label': 'disgust', 'score': 0.0023648906499147415},\n",
       "  {'label': 'caring', 'score': 0.0022489542607218027},\n",
       "  {'label': 'confusion', 'score': 0.00218090508133173},\n",
       "  {'label': 'optimism', 'score': 0.002020901767536998},\n",
       "  {'label': 'disappointment', 'score': 0.00199047289788723},\n",
       "  {'label': 'pride', 'score': 0.0015107968356460333},\n",
       "  {'label': 'relief', 'score': 0.0013611743925139308},\n",
       "  {'label': 'nervousness', 'score': 0.001285318867303431},\n",
       "  {'label': 'grief', 'score': 0.0012822101125493646},\n",
       "  {'label': 'embarrassment', 'score': 0.0011723913485184312},\n",
       "  {'label': 'disapproval', 'score': 0.000916982302442193},\n",
       "  {'label': 'remorse', 'score': 0.0005447394796647131}]]"
      ]
     },
     "execution_count": 2,
     "metadata": {},
     "output_type": "execute_result"
    }
   ],
   "source": [
    "from transformers import AutoTokenizer, pipeline\n",
    "from optimum.onnxruntime import ORTModelForSequenceClassification\n",
    "\n",
    "model_id = \"SamLowe/roberta-base-go_emotions-onnx\"\n",
    "file_name = \"onnx/model_quantized.onnx\"\n",
    "\n",
    "model = ORTModelForSequenceClassification.from_pretrained(model_id, file_name=file_name)\n",
    "tokenizer = AutoTokenizer.from_pretrained(model_id)\n",
    "\n",
    "onnx_classifier = pipeline(\n",
    "    task=\"text-classification\",\n",
    "    model=model,\n",
    "    tokenizer=tokenizer,\n",
    "    top_k=None,\n",
    "    function_to_apply=\"sigmoid\",  # optional as is the default for the task\n",
    ")\n",
    "\n",
    "sentence = [\"hello world!\"]\n",
    "\n",
    "r = onnx_classifier(sentence)\n",
    "r"
   ]
  },
  {
   "cell_type": "code",
   "execution_count": 5,
   "metadata": {},
   "outputs": [],
   "source": []
  },
  {
   "cell_type": "code",
   "execution_count": null,
   "metadata": {},
   "outputs": [],
   "source": []
  }
 ],
 "metadata": {
  "kernelspec": {
   "display_name": ".venv",
   "language": "python",
   "name": "python3"
  },
  "language_info": {
   "codemirror_mode": {
    "name": "ipython",
    "version": 3
   },
   "file_extension": ".py",
   "mimetype": "text/x-python",
   "name": "python",
   "nbconvert_exporter": "python",
   "pygments_lexer": "ipython3",
   "version": "3.11.6"
  }
 },
 "nbformat": 4,
 "nbformat_minor": 2
}
